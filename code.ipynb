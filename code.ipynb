{
 "cells": [
  {
   "cell_type": "code",
   "execution_count": 2,
   "metadata": {},
   "outputs": [],
   "source": [
    "import numpy as np\n",
    "import itertools\n",
    "import pandas as pd"
   ]
  },
  {
   "cell_type": "markdown",
   "metadata": {},
   "source": [
    "# Elegant "
   ]
  },
  {
   "cell_type": "code",
   "execution_count": 3,
   "metadata": {},
   "outputs": [],
   "source": [
    "# Function to generate joint probability distribution\n",
    "\n",
    "def joint_generator(A,B):\n",
    "  l = []\n",
    "\n",
    "  for i in range(len(A)):\n",
    "      for j in range(len(B)):\n",
    "        l.append(list(itertools.product(A[i], B[j])))\n",
    "\n",
    "  return list(itertools.chain(*l))\n",
    "\n",
    "#Function to generate precurser of marginal probabilities\n",
    "  \n",
    "\n",
    "def combination_precurser(A,B):\n",
    "  l = []\n",
    "\n",
    "  for i in range(len(A)):\n",
    "    l.append(A[i])\n",
    "\n",
    "  for j in range(len(B)):\n",
    "    l.append(B[j])\n",
    "\n",
    "  return l\n",
    "\n",
    "#Function to generate table from two given arrays\n",
    "\n",
    "def table_dataframe(table,joint,comb):\n",
    "  df = pd.DataFrame(data=table, index=comb, columns=joint)\n",
    "  result = df.astype(int)\n",
    "  df = result\n",
    "\n",
    "  return result\n",
    "    \n",
    "#Function to generate table containing the vertices of the local polytope\n",
    "\n",
    "def table_gen(joint,comb):\n",
    "\n",
    "  k = []\n",
    "\n",
    "  for j in range(len(comb)):\n",
    "      t = []\n",
    "      for i in range(len(joint)):\n",
    "          t.append(set(joint[i]).issubset(set(comb[j])))\n",
    "      k.append(t)\n",
    "  \n",
    "  # The follwing code will add an column containing all entries 1. This is to make the vertices recognizable by Polymake software\n",
    "\n",
    "  df = table_dataframe(k,joint,comb)\n",
    "  df.insert(0,'vertex','')\n",
    "  df['vertex'] = 1\n",
    "\n",
    "  return df\n",
    "\n",
    "\n",
    "  \n",
    "  \n",
    "\n",
    "\n"
   ]
  },
  {
   "cell_type": "code",
   "execution_count": 4,
   "metadata": {},
   "outputs": [],
   "source": [
    "A = [['0a1','1a1'],['0a2', '1a2']]\n",
    "B = [['0b1','1b1'],['0b2', '1b2']]"
   ]
  },
  {
   "cell_type": "code",
   "execution_count": 5,
   "metadata": {},
   "outputs": [],
   "source": [
    "joint = joint_generator(A,B)"
   ]
  },
  {
   "cell_type": "code",
   "execution_count": 6,
   "metadata": {},
   "outputs": [
    {
     "data": {
      "text/plain": [
       "[('0a1', '0b1'),\n",
       " ('0a1', '1b1'),\n",
       " ('1a1', '0b1'),\n",
       " ('1a1', '1b1'),\n",
       " ('0a1', '0b2'),\n",
       " ('0a1', '1b2'),\n",
       " ('1a1', '0b2'),\n",
       " ('1a1', '1b2'),\n",
       " ('0a2', '0b1'),\n",
       " ('0a2', '1b1'),\n",
       " ('1a2', '0b1'),\n",
       " ('1a2', '1b1'),\n",
       " ('0a2', '0b2'),\n",
       " ('0a2', '1b2'),\n",
       " ('1a2', '0b2'),\n",
       " ('1a2', '1b2')]"
      ]
     },
     "execution_count": 6,
     "metadata": {},
     "output_type": "execute_result"
    }
   ],
   "source": [
    "joint"
   ]
  },
  {
   "cell_type": "code",
   "execution_count": 7,
   "metadata": {},
   "outputs": [
    {
     "data": {
      "text/plain": [
       "[['0a1', '1a1'], ['0a2', '1a2'], ['0b1', '1b1'], ['0b2', '1b2']]"
      ]
     },
     "execution_count": 7,
     "metadata": {},
     "output_type": "execute_result"
    }
   ],
   "source": [
    "combination_precurser(A,B)"
   ]
  },
  {
   "cell_type": "code",
   "execution_count": 8,
   "metadata": {},
   "outputs": [],
   "source": [
    "comb = list(itertools.product(['0a1','1a1'], ['0a2', '1a2'],['0b1','1b1'],['0b2', '1b2']))"
   ]
  },
  {
   "cell_type": "code",
   "execution_count": 9,
   "metadata": {},
   "outputs": [],
   "source": [
    "df = table_gen(joint,comb)\n",
    "\n",
    "df.to_csv('out_chsh.csv',index=False,header=False)\n",
    "\n",
    "file = open(\"out_chsh.csv\")\n",
    "numpy_array = np.loadtxt(file, delimiter=\",\")\n",
    "\n",
    "array = numpy_array.astype(int)"
   ]
  },
  {
   "cell_type": "markdown",
   "metadata": {},
   "source": [
    "# Elegant"
   ]
  },
  {
   "cell_type": "code",
   "execution_count": 10,
   "metadata": {},
   "outputs": [],
   "source": [
    "A = [['0a1','1a1'],['0a2', '1a2'],['0a3','1a3'],['0a4', '1a4']]\n",
    "B = [['0b1','1b1'],['0b2', '1b2'],['0b3', '1b3']]"
   ]
  },
  {
   "cell_type": "code",
   "execution_count": 11,
   "metadata": {},
   "outputs": [
    {
     "data": {
      "text/plain": [
       "[['0a1', '1a1'],\n",
       " ['0a2', '1a2'],\n",
       " ['0a3', '1a3'],\n",
       " ['0a4', '1a4'],\n",
       " ['0b1', '1b1'],\n",
       " ['0b2', '1b2'],\n",
       " ['0b3', '1b3']]"
      ]
     },
     "execution_count": 11,
     "metadata": {},
     "output_type": "execute_result"
    }
   ],
   "source": [
    "joint = joint_generator(A,B)\n",
    "combination_precurser(A,B)"
   ]
  },
  {
   "cell_type": "code",
   "execution_count": 12,
   "metadata": {},
   "outputs": [],
   "source": [
    "comb = list(itertools.product(['0a1', '1a1'],['0a2', '1a2'],['0a3', '1a3'],['0a4', '1a4'],['0b1', '1b1'],['0b2', '1b2'],['0b3', '1b3']))"
   ]
  },
  {
   "cell_type": "code",
   "execution_count": 13,
   "metadata": {},
   "outputs": [
    {
     "data": {
      "text/plain": [
       "128"
      ]
     },
     "execution_count": 13,
     "metadata": {},
     "output_type": "execute_result"
    }
   ],
   "source": [
    "len(comb)"
   ]
  },
  {
   "cell_type": "code",
   "execution_count": 14,
   "metadata": {},
   "outputs": [],
   "source": [
    "table_gen(joint,comb)\n",
    "\n",
    "df = table_gen(joint,comb)"
   ]
  },
  {
   "cell_type": "code",
   "execution_count": 15,
   "metadata": {},
   "outputs": [],
   "source": [
    "df.to_csv('out_elegant.csv',index=False,header=False)"
   ]
  },
  {
   "cell_type": "code",
   "execution_count": 16,
   "metadata": {},
   "outputs": [],
   "source": [
    "file = open(\"out_elegant.csv\")\n",
    "numpy_array = np.loadtxt(file, delimiter=\",\")\n",
    "\n",
    "array = numpy_array.astype(int)"
   ]
  },
  {
   "cell_type": "code",
   "execution_count": 17,
   "metadata": {},
   "outputs": [],
   "source": [
    "np.savetxt('z.txt',array,delimiter=None)"
   ]
  },
  {
   "cell_type": "markdown",
   "metadata": {},
   "source": []
  }
 ],
 "metadata": {
  "interpreter": {
   "hash": "b3ba2566441a7c06988d0923437866b63cedc61552a5af99d1f4fb67d367b25f"
  },
  "kernelspec": {
   "display_name": "Python 3.7.7 64-bit ('base': conda)",
   "language": "python",
   "name": "python3"
  },
  "language_info": {
   "codemirror_mode": {
    "name": "ipython",
    "version": 3
   },
   "file_extension": ".py",
   "mimetype": "text/x-python",
   "name": "python",
   "nbconvert_exporter": "python",
   "pygments_lexer": "ipython3",
   "version": "3.7.7"
  },
  "orig_nbformat": 4
 },
 "nbformat": 4,
 "nbformat_minor": 2
}
